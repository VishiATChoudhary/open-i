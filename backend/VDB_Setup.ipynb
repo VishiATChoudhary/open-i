{
 "cells": [
  {
   "cell_type": "markdown",
   "id": "f74fa173-6ff2-467e-af12-622a30b2231a",
   "metadata": {},
   "source": [
    "# Vector Database Collection & API Setup\n",
    "\n",
    "This notebook will walk you through setting up the vector database portion of the [openai-realtime-rag](https://github.com/ALucek/openai-realtime-rag/tree/main) fork."
   ]
  },
  {
   "cell_type": "markdown",
   "id": "270b5b9d-5aa2-4a07-8d2b-2de0c9c6bfb4",
   "metadata": {},
   "source": [
    "## Setting Up Your Vector Database\n",
    "\n",
    "For our vector database, a classic choice I use is [ChromaDB](https://www.trychroma.com/). While you can host Chroma as a server itself, I've decoupled the database and the API to allow for more dynamic plug and play capabilities for databases."
   ]
  },
  {
   "cell_type": "markdown",
   "id": "0aa07129-78ad-4e64-8818-c2d51e3d6bda",
   "metadata": {},
   "source": [
    "#### Instantiate ChromaDB\n",
    "\n",
    "Create a persistent client of ChromaDB that will store everything in the folder `chroma`"
   ]
  },
  {
   "cell_type": "code",
   "execution_count": 1,
   "id": "2d3c036b-0cff-4fa6-b42e-5619429df7b6",
   "metadata": {},
   "outputs": [],
   "source": [
    "import chromadb\n",
    "\n",
    "# Creating Vector Database\n",
    "client = chromadb.PersistentClient()"
   ]
  },
  {
   "cell_type": "markdown",
   "id": "58bd5c72-3905-4062-b561-2238b16512c1",
   "metadata": {},
   "source": [
    "#### Create a New Collection\n",
    "\n",
    "This is where all of our chunked text documents are going to be inserted into"
   ]
  },
  {
   "cell_type": "code",
   "execution_count": 2,
   "id": "13d874dd-23e7-4766-99a9-899bca877a45",
   "metadata": {},
   "outputs": [],
   "source": [
    "collection = client.get_or_create_collection(name=\"vdb_collection\", metadata={\"hnsw:space\": \"cosine\"})"
   ]
  },
  {
   "cell_type": "markdown",
   "id": "da2ae864-a47a-4b01-a785-d015cb053b0a",
   "metadata": {},
   "source": [
    "#### Load & Split PDF \n",
    "\n",
    "We'll be using some simple LangChain integrations to load and chunk our PDF. Using OpenAI's standard token chunk size and overlap for their Assistants API as a baseline."
   ]
  },
  {
   "cell_type": "code",
   "execution_count": 3,
   "id": "06a51d6a",
   "metadata": {},
   "outputs": [
    {
     "name": "stdout",
     "output_type": "stream",
     "text": [
      "[{'timestamp': '2025-04-26T09:33:21.801Z', 'caption': 'Here are a few caption options for the image:\\n\\n*   \"Just trying to get through the day.\"\\n*   \"Studying in a bright, open space.\"\\n*   \"Lost in thought amidst a busy environment.\"\\n* \"Hoping my headphones block out enough noise to focus here.\"', 'imageSize': 60106, 'mimeType': 'image/jpeg'}, {'timestamp': '2025-04-26T09:35:48.480Z', 'caption': 'Here are a few captions for the image:\\n\\n**General/Neutral:**\\n\\n*  \"Studying hard or hardly studying?\"\\n*  \"Just another day at the library.\"\\n*  \"Focused and ready to go.\"\\n*  \"Deep in thought.\"\\n\\n**Humorous:**\\n\\n* \"My face when I realize the deadline is tomorrow.\"\\n*  \"Trying to concentrate in a crowded place.\"\\n*  \"When you\\'re trying to look smart but all you can think about is lunch.\"\\n* \"Please don\\'t talk to me, I\\'m doing maths\"\\n\\n**Specific to the setting:**\\n\\n* \"Hitting the books at the library.\"\\n*  \"Taking a study break.\"\\n\\nI tried to choose captions that would be appropriate based on the person\\'s facial expression and the library-like environment.\\n', 'imageSize': 60926, 'mimeType': 'image/jpeg'}, {'timestamp': '2025-04-26T09:35:49.936Z', 'caption': 'Here are a few captions for the image:\\n\\n**General:**\\n\\n*   Studying hard or hardly studying?\\n*   Lost in thought.\\n*   Just another day at the library.\\n\\n**Humorous:**\\n\\n*   My brain is at 1% battery.\\n*   Coffee, books, and existential dread.\\n*   This is my \"trying to understand\" face.\\n\\n**Descriptive:**\\n\\n*   A student wearing glasses and headphones in a bright, open space.\\n*   Curly-haired person in a casual setting.\\n\\nI hope this helps!\\n', 'imageSize': 61798, 'mimeType': 'image/jpeg'}, {'timestamp': '2025-04-26T09:35:52.571Z', 'caption': 'Here are a few creative captions for the image:\\n\\n**General/Humorous:**\\n\\n* \"Me trying to understand my professor\\'s explanation.\"\\n* \"Is it Friday yet? This is my \\'please let this meeting be over\\' face.\"\\n* \"When you\\'re trying to focus but life has other plans.\"\\n* \"My brain.exe has stopped working.\"\\n\\n**Relatable/Student-focused:**\\n\\n* \"Just another day fueled by caffeine and hope.\"\\n* \"Trying to stay awake during a lecture I should have slept for.\"\\n* \"Me at 3 AM questioning all my life choices... and my major.\"\\n* \"The face of pure academic determination (and maybe a little exhaustion).\"\\n\\n**Introspective:**\\n\\n* \"Lost in thought, searching for answers in a sea of information.\"\\n* \"Contemplating the universe, one lecture at a time.\"\\n* \"Trying to stay present in a world that keeps moving.\"\\n\\nI hope these help!\\n', 'imageSize': 60158, 'mimeType': 'image/jpeg'}, {'timestamp': '2025-04-26T09:35:54.124Z', 'caption': 'Here are a few creative captions for the image:\\n\\n**Humorous:**\\n\\n* \"Me trying to explain why I\\'m behind on all my deadlines.\"\\n* \"When your headphones suddenly turn into a microphone.\"\\n* \"Is this thing on? ...Hello, world!\"\\n\\n**Relatable:**\\n\\n* \"That feeling when you\\'re trying to look professional on a video call.\"\\n* \"Just another day of trying to figure out technology.\"\\n* \"Coffee needed... badly.\"\\n\\n**Descriptive:**\\n\\n* \"Lost in thought in a bright, open space.\"\\n* \"Capturing a candid moment.\"\\n* \"An interior location with natural light and neutral colors.\"\\n\\nI can offer more if you\\'d like! Give me an idea of the tone you want to convey.\\n', 'imageSize': 58744, 'mimeType': 'image/jpeg'}, {'timestamp': '2025-04-26T09:35:56.051Z', 'caption': 'Here are a few caption options for the image:\\n\\n**General:**\\n\\n*   Just another day, just another selfie.\\n*   Hoping this selfie brightens your day!\\n*   Feeling [emotion] today.\\n\\n**Humorous:**\\n\\n*   This is my \"I haven\\'t had enough coffee\" face.\\n*   When you\\'re trying to look professional but your hair has other plans.\\n\\n**Specific to the Image:**\\n\\n*   Hanging out in the [type of building] with my headphones.\\n*   Taking a break and enjoying the view.\\n\\nTo give the best caption, it would be helpful to know more about the context and what the person in the photo wants to convey.', 'imageSize': 60181, 'mimeType': 'image/jpeg'}, {'timestamp': '2025-04-26T09:35:58.209Z', 'caption': 'Here are a few caption options for the image:\\n\\n**Simple & Descriptive:**\\n\\n*   \"Chilling in a bright, airy space.\"\\n*   \"Portrait in a modern building.\"\\n*   \"Just hanging out.\"\\n\\n**More Engaging:**\\n\\n*   \"Lost in thought... or about to conquer the world?\"\\n*   \"That feeling when you\\'re trying to focus but everything is distracting you.\"\\n*   \"Taking a moment to recharge.\"\\n\\n**Humorous:**\\n\\n*   \"Is it Friday yet?\"\\n*   \"My face when someone asks me to do more work.\"\\n*   \"Trying to look serious but also slightly suspicious.\"\\n\\nUltimately, the best caption depends on the context in which you\\'re sharing the image and the vibe you want to convey.', 'imageSize': 60658, 'mimeType': 'image/jpeg'}, {'timestamp': '2025-04-26T09:36:00.035Z', 'caption': 'Here are a few creative captions for the image:\\n\\n**General/Neutral:**\\n\\n*   Just another day at the library.\\n*   Lost in thought.\\n*   Fueling up with knowledge (and maybe some caffeine).\\n\\n**Humorous:**\\n\\n*   My face when the professor says, \"This won\\'t be on the test.\"\\n*   Me trying to understand quantum physics.\\n*   Brain overload!\\n\\n**Specific to the setting (if applicable):**\\n\\n*   Hanging out in the lobby.\\n*   Study vibes only.\\n*   Prepping for a productive day.\\n\\nI can generate more if you have a specific style or subject in mind!', 'imageSize': 60122, 'mimeType': 'image/jpeg'}, {'timestamp': '2025-04-26T09:36:02.374Z', 'caption': 'Here are a few caption options for the image:\\n\\n**General captions:**\\n\\n* \"Work from anywhere, they said. 😅\"\\n* \"Procrastinating with a selfie before getting back to it.\"\\n* \"Feeling the Monday/Tuesday/Wednesday/etc. blues.\" (Adjust the day as needed)\\n* \"Just another day, another coffee, another to-do list.\"\\n* \"Is it Friday yet?\"\\n\\n**More specific captions:**\\n\\n* \"Trying to look productive while secretly browsing Reddit.\"\\n* \"When the library is your office for the day.\"\\n* \"Struggling through this coding project.\"\\n* \"Studying for exams like...\"\\n\\n**Humorous captions:**\\n\\n* \"My face when I realize how much work I have to do.\"\\n* \"Me trying to convince myself I\\'m not behind on everything.\"\\n* \"Brain: Delete. Delete. Delete.\"\\n\\nI\\'m ready for your next image!\\n', 'imageSize': 60165, 'mimeType': 'image/jpeg'}, {'timestamp': '2025-04-26T09:36:04.147Z', 'caption': 'Here are some captions for the image:\\n\\n**General Captions:**\\n*   \"Just another day in the office.\"\\n*   \"Ready to take on the day.\"\\n*   \"Working hard, or hardly working?\"\\n*   \"Thinking about...\"\\n*   \"Coffee and vibes.\"\\n\\n**Humorous Captions:**\\n*   \"My face when I realize it\\'s only Tuesday.\"\\n*   \"Me trying to look presentable after a late night.\"\\n*   \"Overcaffeinated and underprepared.\"\\n*   \"Trying to adult.\"\\n\\n**Introspective Captions:**\\n*   \"Lost in thought.\"\\n*   \"Contemplating life.\"\\n*   \"Finding my focus.\"\\n*   \"Taking a moment to breathe.\"\\n\\nTo choose the best caption, consider the context in which you plan to use the image. I hope this helps.', 'imageSize': 60283, 'mimeType': 'image/jpeg'}, {'timestamp': '2025-04-26T09:36:06.118Z', 'caption': 'Here are a few captions for the image, focusing on different aspects:\\n\\n**General/Neutral:**\\n\\n*   Just another day.\\n*   Taking a quick break.\\n*   Morning vibes.\\n\\n**Humorous:**\\n\\n*   When you\\'re trying to focus but everything is distracting.\\n*   My \"I haven\\'t slept in days\" look.\\n*   The face of someone who needs coffee... badly.\\n\\n**If you want to be specific about the location:**\\n\\n*   Working from the library today.\\n*   Studying at the university.\\n\\nTo make the caption even better, consider:\\n\\n*   **What is the person in the photo doing?**  Are they actually studying? Or just people-watching?\\n*   **What is the person\\'s mood?** Are they happy, tired, stressed, focused?\\n*   **Is there something unique or interesting about the setting?** A detail that adds to the story?', 'imageSize': 60592, 'mimeType': 'image/jpeg'}, {'timestamp': '2025-04-26T09:36:07.458Z', 'caption': 'Here are a few captions for the image:\\n\\n*   \"POV: Trying to understand your assignment.\"\\n*   \"Staring into the void of upcoming deadlines.\"\\n*   \"Me trying to focus in a busy study area.\"\\n* \"I\\'m not angry, this is just my studying face.\"\\n* \"Is it Friday yet?\"', 'imageSize': 61278, 'mimeType': 'image/jpeg'}, {'timestamp': '2025-04-26T09:36:09.750Z', 'caption': 'Here are a few possible captions for the image:\\n\\n**Short and simple:**\\n\\n*   Chilling out at the library.\\n*   Study session in progress.\\n*   Enjoying a quiet moment.\\n\\n**More descriptive:**\\n\\n*   Lost in thought while studying.\\n*   Taking a break from the books at the library.\\n*   Trying to focus on my work in a busy space.\\n\\n**A bit humorous:**\\n\\n*   Brain overload in progress.\\n*   Coffee and study, the perfect combination!\\n*   Wish me luck, I have a test tomorrow.\\n', 'imageSize': 61052, 'mimeType': 'image/jpeg'}, {'timestamp': '2025-04-26T09:36:12.194Z', 'caption': 'Here are a few caption options for the image:\\n\\n**General/Neutral:**\\n\\n*   \"Just another day, another grind.\"\\n*   \"Deep in thought...\"\\n*   \"Studying/Working vibes.\"\\n*   \"Caught in the middle of something.\"\\n\\n**Humorous:**\\n\\n*   \"Trying to look busy.\"\\n*   \"Me trying to understand what\\'s going on.\"\\n*   \"Is it Friday yet?\"\\n\\n**Self-referential/Introspective:**\\n\\n*   \"Taking a moment.\"\\n*   \"Contemplating...\"\\n*   \"Sometimes you just gotta pause.\"\\n\\nI can give you more tailored captions if you have a specific mood or context you want to convey!', 'imageSize': 60812, 'mimeType': 'image/jpeg'}, {'timestamp': '2025-04-26T09:36:14.117Z', 'caption': \"Here are a few creative captions for the image:\\n\\n**General:**\\n\\n*   Just another day, another hallway.\\n*   Lost in thought in a concrete jungle.\\n*   People-watching in a public space.\\n\\n**Humorous:**\\n\\n*   Existential thoughts in the cafeteria, as usual.\\n*   Trying to look like I know what I'm doing.\\n*   Me attempting to look like I belong here.\\n\\n**Descriptive:**\\n\\n*   Casual portrait in a modern building.\\n*   A moment of reflection amidst the busy surroundings.\\n*   Contemplation by the window.\\n\\nI tried to create diverse captions that capture the essence of the image while also varying in tone.\", 'imageSize': 59890, 'mimeType': 'image/jpeg'}, {'timestamp': '2025-04-26T09:36:15.609Z', 'caption': \"Here are a few possible captions for the image:\\n\\n**Short & Casual:**\\n\\n*   Just another day at the library.\\n*   Studying hard!\\n*   Work in progress.\\n\\n**More Descriptive:**\\n\\n*   Focused on my studies in a bright, open space.\\n*   Getting work done in the library.\\n*   Taking a study break.\\n\\n**Humorous:**\\n\\n*   Trying to look like I know what I'm doing.\\n*   Send coffee!\\n*   Brain is loading...\\n\\nI hope this helps!\\n\", 'imageSize': 59324, 'mimeType': 'image/jpeg'}, {'timestamp': '2025-04-26T09:36:17.837Z', 'caption': 'Here are a few creative captions for the image:\\n\\n**Humorous:**\\n\\n*   \"POV: You\\'re trying to study but your brain is already on vacation.\"\\n*   \"Me pretending to listen in a Zoom meeting.\"\\n*   \"My face when I realize it\\'s only Tuesday.\"\\n\\n**Relatable/Thoughtful:**\\n\\n*   \"Chasing dreams and deadlines.\"\\n*   \"Just trying to make today a little better than yesterday.\"\\n*   \"Finding my focus amidst the chaos.\"\\n\\n**Specific/Descriptive:**\\n\\n*   \"Coffee and concentration needed in this university atrium.\"\\n*   \"Lost in thought at the campus cafe.\"\\n*   \"Headphones on, world off... almost.\"\\n\\nI hope these are helpful!\\n', 'imageSize': 60705, 'mimeType': 'image/jpeg'}]\n"
     ]
    }
   ],
   "source": [
    "import json\n",
    "with open('logs/gemini-responses1.json', 'r') as f:\n",
    "    data = json.load(f)\n",
    "\n",
    "print(data)\n"
   ]
  },
  {
   "cell_type": "code",
   "execution_count": 4,
   "id": "430078d0-7ec1-4a78-9f9b-569e4a3b2c8b",
   "metadata": {},
   "outputs": [],
   "source": [
    "from langchain_community.document_loaders import PyMuPDFLoader\n",
    "from langchain_text_splitters import RecursiveCharacterTextSplitter\n",
    "\n",
    "\n",
    "\n",
    "\n",
    "\n",
    "text_splitter = RecursiveCharacterTextSplitter.from_tiktoken_encoder(\n",
    "    model_name=\"gpt-4\",\n",
    "    chunk_size=800,\n",
    "    chunk_overlap=400,\n",
    ")\n",
    "\n",
    "chunks = text_splitter.split_text(str(data))"
   ]
  },
  {
   "cell_type": "code",
   "execution_count": 5,
   "id": "73682f57-99fa-4e1d-8d87-96ac2aef779d",
   "metadata": {},
   "outputs": [
    {
     "data": {
      "text/plain": [
       "8"
      ]
     },
     "execution_count": 5,
     "metadata": {},
     "output_type": "execute_result"
    }
   ],
   "source": [
    "len(chunks)"
   ]
  },
  {
   "cell_type": "markdown",
   "id": "db47642d-ede7-42bb-9323-e9170ebe01c7",
   "metadata": {},
   "source": [
    "#### Insert Chunks into VDB Collection\n",
    "\n",
    "Embed each chunk into the collection"
   ]
  },
  {
   "cell_type": "code",
   "execution_count": 6,
   "id": "ce459ee9-69a9-4387-bb1b-d101916390f7",
   "metadata": {},
   "outputs": [
    {
     "name": "stderr",
     "output_type": "stream",
     "text": [
      "\u001b[0;93m2025-04-26 15:22:25.249370 [W:onnxruntime:, helper.cc:82 IsInputSupported] CoreML does not support input dim > 16384. Input:embeddings.word_embeddings.weight, shape: {30522,384}\u001b[m\n",
      "\u001b[0;93m2025-04-26 15:22:25.249671 [W:onnxruntime:, coreml_execution_provider.cc:107 GetCapability] CoreMLExecutionProvider::GetCapability, number of partitions supported by CoreML: 49 number of nodes in the graph: 323 number of nodes supported by CoreML: 231\u001b[m\n"
     ]
    }
   ],
   "source": [
    "# Insert Chunks into ChromaDB Collection\n",
    "i = 0\n",
    "for chunk in chunks:\n",
    "    collection.add(\n",
    "    documents=[chunk],\n",
    "    ids=[f\"chunk_{i}\"]\n",
    "    )\n",
    "    i += 1"
   ]
  },
  {
   "cell_type": "code",
   "execution_count": 11,
   "id": "b0c943af",
   "metadata": {},
   "outputs": [
    {
     "name": "stderr",
     "output_type": "stream",
     "text": [
      "Add of existing embedding ID: chunk_0\n",
      "Insert of existing embedding ID: chunk_0\n"
     ]
    }
   ],
   "source": [
    "#add the first json object to the collection again\n",
    "collection.add(\n",
    "    documents=[str(data)],\n",
    "    ids=[\"chunk_0\"]\n",
    ")"
   ]
  },
  {
   "cell_type": "markdown",
   "id": "605248d0-09f6-44d6-89db-e01af12d60f4",
   "metadata": {},
   "source": [
    "#### If Repopulating the DB, first delete the collection\n",
    "\n",
    "Use this if you need to reset your vector database."
   ]
  },
  {
   "cell_type": "code",
   "execution_count": 8,
   "id": "a874ef72-623a-4177-b130-5a3aadb1b737",
   "metadata": {},
   "outputs": [],
   "source": [
    "#client.delete_collection(name=\"vdb_collection\")"
   ]
  },
  {
   "cell_type": "markdown",
   "id": "022acb9c-4f13-47a5-9453-003101da178a",
   "metadata": {},
   "source": [
    "---\n",
    "## API Setup\n",
    "\n",
    "We'll be using [FastAPI](https://fastapi.tiangolo.com/) as a quick and easy way to host our query function as a REST API. This API is what will be called from the defined `query_db` tool in the main console file."
   ]
  },
  {
   "cell_type": "code",
   "execution_count": 9,
   "id": "5f958037-4293-4f09-9231-24da27a49956",
   "metadata": {},
   "outputs": [],
   "source": [
    "from fastapi import FastAPI\n",
    "from pydantic import BaseModel\n",
    "from fastapi.middleware.cors import CORSMiddleware\n",
    "\n",
    "app = FastAPI()\n",
    "\n",
    "app.add_middleware(\n",
    "    CORSMiddleware,\n",
    "    allow_origins=[\"*\"],\n",
    "    allow_credentials=True,\n",
    "    allow_methods=[\"*\"],\n",
    "    allow_headers=[\"*\"],\n",
    ")\n",
    "\n",
    "# Define a request model\n",
    "class QueryRequest(BaseModel):\n",
    "    query: str\n",
    "\n",
    "# Define the query endpoint\n",
    "@app.post(\"/query\")\n",
    "async def query_chroma(request: QueryRequest):\n",
    "    # Perform the query on your ChromaDB collection\n",
    "    results = collection.query(query_texts=[request.query], n_results=5)\n",
    "    return {\"results\": results['documents'][0]}"
   ]
  },
  {
   "cell_type": "markdown",
   "id": "603b3cfb-8067-400a-8f77-eecceb93122c",
   "metadata": {},
   "source": [
    "#### Run API\n",
    "\n",
    "Using uvicorn to host the API as a local web server"
   ]
  },
  {
   "cell_type": "code",
   "execution_count": 10,
   "id": "582c4a6f-77bc-447a-9e56-95c84033dd8d",
   "metadata": {},
   "outputs": [
    {
     "name": "stderr",
     "output_type": "stream",
     "text": [
      "INFO:     Started server process [8486]\n",
      "INFO:     Waiting for application startup.\n",
      "INFO:     Application startup complete.\n",
      "INFO:     Uvicorn running on http://0.0.0.0:8000 (Press CTRL+C to quit)\n"
     ]
    },
    {
     "name": "stdout",
     "output_type": "stream",
     "text": [
      "INFO:     127.0.0.1:64464 - \"OPTIONS /query HTTP/1.1\" 200 OK\n",
      "INFO:     127.0.0.1:64464 - \"POST /query HTTP/1.1\" 200 OK\n",
      "INFO:     127.0.0.1:64610 - \"POST /query HTTP/1.1\" 200 OK\n"
     ]
    }
   ],
   "source": [
    "import uvicorn\n",
    "import threading\n",
    "\n",
    "def run_api():\n",
    "    uvicorn.run(app, host=\"0.0.0.0\", port=8000)\n",
    "\n",
    "# Run the FastAPI app in a background thread\n",
    "thread = threading.Thread(target=run_api)\n",
    "thread.start()"
   ]
  },
  {
   "cell_type": "code",
   "execution_count": null,
   "id": "a471babe-b2f8-4e3d-aeac-03e076a6e112",
   "metadata": {},
   "outputs": [],
   "source": []
  }
 ],
 "metadata": {
  "kernelspec": {
   "display_name": "agents",
   "language": "python",
   "name": "python3"
  },
  "language_info": {
   "codemirror_mode": {
    "name": "ipython",
    "version": 3
   },
   "file_extension": ".py",
   "mimetype": "text/x-python",
   "name": "python",
   "nbconvert_exporter": "python",
   "pygments_lexer": "ipython3",
   "version": "3.9.21"
  }
 },
 "nbformat": 4,
 "nbformat_minor": 5
}
