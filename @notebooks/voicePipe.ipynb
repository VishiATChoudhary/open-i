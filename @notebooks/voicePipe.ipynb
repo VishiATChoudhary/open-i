{
 "cells": [
  {
   "cell_type": "code",
   "execution_count": 1,
   "metadata": {},
   "outputs": [],
   "source": [
    "import asyncio\n",
    "import random\n",
    "\n",
    "from agents import (\n",
    "    Agent,\n",
    "    function_tool,\n",
    ")\n",
    "from agents.extensions.handoff_prompt import prompt_with_handoff_instructions\n",
    "\n",
    "\n",
    "\n",
    "@function_tool\n",
    "def get_weather(city: str) -> str:\n",
    "    \"\"\"Get the weather for a given city.\"\"\"\n",
    "    print(f\"[debug] get_weather called with city: {city}\")\n",
    "    choices = [\"sunny\", \"cloudy\", \"rainy\", \"snowy\"]\n",
    "    return f\"The weather in {city} is {random.choice(choices)}.\"\n",
    "\n",
    "\n",
    "spanish_agent = Agent(\n",
    "    name=\"Spanish\",\n",
    "    handoff_description=\"A spanish speaking agent.\",\n",
    "    instructions=prompt_with_handoff_instructions(\n",
    "        \"You're speaking to a human, so be polite and concise. Speak in Spanish.\",\n",
    "    ),\n",
    "    model=\"gpt-4o-mini\",\n",
    ")\n",
    "\n",
    "agent = Agent(\n",
    "    name=\"Assistant\",\n",
    "    instructions=prompt_with_handoff_instructions(\n",
    "        \"You're speaking to a human, so be polite and concise. If the user speaks in Spanish, handoff to the spanish agent.\",\n",
    "    ),\n",
    "    model=\"gpt-4o-mini\",\n",
    "    handoffs=[spanish_agent],\n",
    "    tools=[get_weather],\n",
    ")"
   ]
  },
  {
   "cell_type": "code",
   "execution_count": 2,
   "metadata": {},
   "outputs": [],
   "source": [
    "from agents.voice import SingleAgentVoiceWorkflow, VoicePipeline\n",
    "pipeline = VoicePipeline(workflow=SingleAgentVoiceWorkflow(agent))"
   ]
  },
  {
   "cell_type": "code",
   "execution_count": 3,
   "metadata": {},
   "outputs": [],
   "source": [
    "import numpy as np\n",
    "import sounddevice as sd\n",
    "from agents.voice import AudioInput\n",
    "\n",
    "# For simplicity, we'll just create 3 seconds of silence\n",
    "# In reality, you'd get microphone data\n",
    "buffer = np.zeros(24000 * 3, dtype=np.int16)\n",
    "audio_input = AudioInput(buffer=buffer)\n",
    "\n",
    "result = await pipeline.run(audio_input)\n",
    "\n",
    "# Create an audio player using `sounddevice`\n",
    "player = sd.OutputStream(samplerate=24000, channels=1, dtype=np.int16)\n",
    "player.start()\n",
    "\n",
    "# Play the audio stream as it comes in\n",
    "async for event in result.stream():\n",
    "    if event.type == \"voice_stream_event_audio\":\n",
    "        player.write(event.data)"
   ]
  },
  {
   "cell_type": "code",
   "execution_count": null,
   "metadata": {},
   "outputs": [],
   "source": []
  }
 ],
 "metadata": {
  "kernelspec": {
   "display_name": "openI",
   "language": "python",
   "name": "python3"
  },
  "language_info": {
   "codemirror_mode": {
    "name": "ipython",
    "version": 3
   },
   "file_extension": ".py",
   "mimetype": "text/x-python",
   "name": "python",
   "nbconvert_exporter": "python",
   "pygments_lexer": "ipython3",
   "version": "3.10.16"
  }
 },
 "nbformat": 4,
 "nbformat_minor": 2
}
